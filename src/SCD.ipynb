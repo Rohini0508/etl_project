{
 "cells": [
  {
   "cell_type": "markdown",
   "id": "ed7b3a69",
   "metadata": {},
   "source": [
    "# Establishing a connection with Sql Server"
   ]
  },
  {
   "cell_type": "code",
   "execution_count": 379,
   "id": "1a5b8db8",
   "metadata": {},
   "outputs": [],
   "source": [
    "import pyodbc\n",
    "\n",
    "try:\n",
    "    con=pyodbc.connect(\n",
    "        'DRIVER={Odbc Driver 17 for SQL Server};'\n",
    "        'SERVER=DESKTOP-4IVU8N4\\\\MSSQLSERVER1;'\n",
    "        'UID=sa;'\n",
    "        'PWD=abcd;',\n",
    "        autocommit=True\n",
    "    )\n",
    "except Exception as e:\n",
    "        print(\"Connect it properly\",e)"
   ]
  },
  {
   "cell_type": "markdown",
   "id": "8c0656c7",
   "metadata": {},
   "source": [
    "# Creation of Database using Sql Server"
   ]
  },
  {
   "cell_type": "code",
   "execution_count": null,
   "id": "272eac6b",
   "metadata": {},
   "outputs": [
    {
     "name": "stdout",
     "output_type": "stream",
     "text": [
      "Work more on Database Connection\n"
     ]
    }
   ],
   "source": [
    "try:\n",
    "    cursor=con.cursor()\n",
    "    demo = 'SCD'\n",
    "    create_db_query=f\"Create database {demo};\"\n",
    "    cursor.execute(create_db_query)\n",
    "    print(\"Hoorah, Database Created!!\")\n",
    "except Exception as e:\n",
    "    print('Work more on Database Connection')"
   ]
  },
  {
   "cell_type": "markdown",
   "id": "7e88d99c",
   "metadata": {},
   "source": [
    "# Using SQLITE3, it is used to create a database within the venv for temporary purpose\n"
   ]
  },
  {
   "cell_type": "code",
   "execution_count": 381,
   "id": "7561bc16",
   "metadata": {},
   "outputs": [],
   "source": [
    "# import sqlite3\n",
    "\n",
    "# try:\n",
    "#     con=sqlite3.connect(\"SCD.db\")\n",
    "#     print(\"connected successfully\")\n",
    "# except Exception as e:\n",
    "#     print(\"not connected\")"
   ]
  },
  {
   "cell_type": "markdown",
   "id": "bc919e95",
   "metadata": {},
   "source": [
    "# Connecting with Created Database"
   ]
  },
  {
   "cell_type": "code",
   "execution_count": 382,
   "id": "2e612ede",
   "metadata": {},
   "outputs": [
    {
     "name": "stdout",
     "output_type": "stream",
     "text": [
      "Man, you made it!\n"
     ]
    }
   ],
   "source": [
    "from sqlalchemy import create_engine\n",
    "\n",
    "try:\n",
    "    engine = create_engine('mssql+pyodbc://@DESKTOP-4IVU8N4\\MSSQLSERVER1/SCD?driver=Odbc+Driver+17+for+SQL+Server&trusted_connection=yes')\n",
    "    print(\"Man, you made it!\")\n",
    "except Exception as e:\n",
    "    print(\"Database not connected!, Think more you are too close\")"
   ]
  },
  {
   "cell_type": "markdown",
   "id": "4e5614f8",
   "metadata": {},
   "source": [
    "# SCD-0"
   ]
  },
  {
   "cell_type": "markdown",
   "id": "47706243",
   "metadata": {},
   "source": [
    "## Inserting the Values through hard coded method"
   ]
  },
  {
   "cell_type": "code",
   "execution_count": 383,
   "id": "990ab9b9",
   "metadata": {},
   "outputs": [],
   "source": [
    "import pandas as pd\n",
    "\n",
    "data = {\n",
    "    'Employee_Id' : ['101','102','103','104'],\n",
    "    'Name' : ['John','Smith','Reg','Brik'],\n",
    "    'DOB' : ['12-10-1996','13-10-1996','14-10-1996','15-10-1996'],\n",
    "    'Gender':['Male','Male','Female','Female'],\n",
    "    'Role': ['SDE','Data Engineer','Business Analyst','DevOps']\n",
    "}\n",
    "\n",
    "mod_data = {\n",
    "    'Employee_Id' : ['101','102','103','104'],\n",
    "    'Name' : ['John','Smith','Reg','Brik'],\n",
    "    'DOB' : ['12-10-1996','13-11-1996','14-10-1996','15-11-1996'],\n",
    "    'Gender':['Male','Female','Female','Male'],\n",
    "    'Role': ['System Engineer','SDE','Business Mangager','Testing']\n",
    "}"
   ]
  },
  {
   "cell_type": "markdown",
   "id": "9696f0bc",
   "metadata": {},
   "source": [
    "## Converting the data into Dataframe"
   ]
  },
  {
   "cell_type": "code",
   "execution_count": 384,
   "id": "15b830df",
   "metadata": {},
   "outputs": [],
   "source": [
    "dim_data= pd.DataFrame(data)\n",
    "staging_data = pd.DataFrame(mod_data)"
   ]
  },
  {
   "cell_type": "code",
   "execution_count": 385,
   "id": "3582d264",
   "metadata": {},
   "outputs": [
    {
     "data": {
      "text/html": [
       "<div>\n",
       "<style scoped>\n",
       "    .dataframe tbody tr th:only-of-type {\n",
       "        vertical-align: middle;\n",
       "    }\n",
       "\n",
       "    .dataframe tbody tr th {\n",
       "        vertical-align: top;\n",
       "    }\n",
       "\n",
       "    .dataframe thead th {\n",
       "        text-align: right;\n",
       "    }\n",
       "</style>\n",
       "<table border=\"1\" class=\"dataframe\">\n",
       "  <thead>\n",
       "    <tr style=\"text-align: right;\">\n",
       "      <th></th>\n",
       "      <th>Employee_Id</th>\n",
       "      <th>Name</th>\n",
       "      <th>DOB</th>\n",
       "      <th>Gender</th>\n",
       "      <th>Role</th>\n",
       "    </tr>\n",
       "  </thead>\n",
       "  <tbody>\n",
       "    <tr>\n",
       "      <th>0</th>\n",
       "      <td>101</td>\n",
       "      <td>John</td>\n",
       "      <td>12-10-1996</td>\n",
       "      <td>Male</td>\n",
       "      <td>SDE</td>\n",
       "    </tr>\n",
       "    <tr>\n",
       "      <th>1</th>\n",
       "      <td>102</td>\n",
       "      <td>Smith</td>\n",
       "      <td>13-10-1996</td>\n",
       "      <td>Male</td>\n",
       "      <td>Data Engineer</td>\n",
       "    </tr>\n",
       "    <tr>\n",
       "      <th>2</th>\n",
       "      <td>103</td>\n",
       "      <td>Reg</td>\n",
       "      <td>14-10-1996</td>\n",
       "      <td>Female</td>\n",
       "      <td>Business Analyst</td>\n",
       "    </tr>\n",
       "    <tr>\n",
       "      <th>3</th>\n",
       "      <td>104</td>\n",
       "      <td>Brik</td>\n",
       "      <td>15-10-1996</td>\n",
       "      <td>Female</td>\n",
       "      <td>DevOps</td>\n",
       "    </tr>\n",
       "  </tbody>\n",
       "</table>\n",
       "</div>"
      ],
      "text/plain": [
       "  Employee_Id   Name         DOB  Gender              Role\n",
       "0         101   John  12-10-1996    Male               SDE\n",
       "1         102  Smith  13-10-1996    Male     Data Engineer\n",
       "2         103    Reg  14-10-1996  Female  Business Analyst\n",
       "3         104   Brik  15-10-1996  Female            DevOps"
      ]
     },
     "execution_count": 385,
     "metadata": {},
     "output_type": "execute_result"
    }
   ],
   "source": [
    "dim_data"
   ]
  },
  {
   "cell_type": "code",
   "execution_count": null,
   "id": "189c6667",
   "metadata": {},
   "outputs": [
    {
     "data": {
      "text/html": [
       "<div>\n",
       "<style scoped>\n",
       "    .dataframe tbody tr th:only-of-type {\n",
       "        vertical-align: middle;\n",
       "    }\n",
       "\n",
       "    .dataframe tbody tr th {\n",
       "        vertical-align: top;\n",
       "    }\n",
       "\n",
       "    .dataframe thead th {\n",
       "        text-align: right;\n",
       "    }\n",
       "</style>\n",
       "<table border=\"1\" class=\"dataframe\">\n",
       "  <thead>\n",
       "    <tr style=\"text-align: right;\">\n",
       "      <th></th>\n",
       "      <th>Employee_Id</th>\n",
       "      <th>Name</th>\n",
       "      <th>DOB</th>\n",
       "      <th>Gender</th>\n",
       "      <th>Role</th>\n",
       "    </tr>\n",
       "  </thead>\n",
       "  <tbody>\n",
       "    <tr>\n",
       "      <th>0</th>\n",
       "      <td>101</td>\n",
       "      <td>John</td>\n",
       "      <td>12-10-1996</td>\n",
       "      <td>Male</td>\n",
       "      <td>System Engineer</td>\n",
       "    </tr>\n",
       "    <tr>\n",
       "      <th>1</th>\n",
       "      <td>102</td>\n",
       "      <td>Smith</td>\n",
       "      <td>13-11-1996</td>\n",
       "      <td>Female</td>\n",
       "      <td>SDE</td>\n",
       "    </tr>\n",
       "    <tr>\n",
       "      <th>2</th>\n",
       "      <td>103</td>\n",
       "      <td>Reg</td>\n",
       "      <td>14-10-1996</td>\n",
       "      <td>Female</td>\n",
       "      <td>Business Mangager</td>\n",
       "    </tr>\n",
       "    <tr>\n",
       "      <th>3</th>\n",
       "      <td>104</td>\n",
       "      <td>Brik</td>\n",
       "      <td>15-11-1996</td>\n",
       "      <td>Male</td>\n",
       "      <td>Testing</td>\n",
       "    </tr>\n",
       "  </tbody>\n",
       "</table>\n",
       "</div>"
      ],
      "text/plain": [
       "  Employee_Id   Name         DOB  Gender               Role\n",
       "0         101   John  12-10-1996    Male    System Engineer\n",
       "1         102  Smith  13-11-1996  Female                SDE\n",
       "2         103    Reg  14-10-1996  Female  Business Mangager\n",
       "3         104   Brik  15-11-1996    Male            Testing"
      ]
     },
     "execution_count": 386,
     "metadata": {},
     "output_type": "execute_result"
    }
   ],
   "source": [
    "staging_data"
   ]
  },
  {
   "cell_type": "markdown",
   "id": "825a7740",
   "metadata": {},
   "source": [
    "## Access to User Login Credentials in SQL"
   ]
  },
  {
   "cell_type": "code",
   "execution_count": 387,
   "id": "571feb2c",
   "metadata": {},
   "outputs": [],
   "source": [
    "# USE SCD;\n",
    "\n",
    "# -- Grant user access if it doesn't already exist\n",
    "# IF NOT EXISTS (\n",
    "#     SELECT * FROM sys.database_principals WHERE name = 'DESKTOP-4IVU8N4\\Abhinay'\n",
    "# )\n",
    "# BEGIN\n",
    "#     CREATE USER [DESKTOP-4IVU8N4\\Abhinay] FOR LOGIN [DESKTOP-4IVU8N4\\Abhinay];\n",
    "#     ALTER ROLE db_owner ADD MEMBER [DESKTOP-4IVU8N4\\Abhinay];\n",
    "# END\n"
   ]
  },
  {
   "cell_type": "markdown",
   "id": "b196166c",
   "metadata": {},
   "source": [
    "## Insertion of Tables"
   ]
  },
  {
   "cell_type": "code",
   "execution_count": 388,
   "id": "58e8a837",
   "metadata": {},
   "outputs": [
    {
     "name": "stdout",
     "output_type": "stream",
     "text": [
      "Tables are inserted\n"
     ]
    }
   ],
   "source": [
    "try:\n",
    "    dim_data.to_sql(\"Existing_Data\",con=engine,if_exists='replace',index=False)\n",
    "    staging_data.to_sql(\"Latest_Data\",con=engine,if_exists='replace',index=False)\n",
    "    print(\"Tables are inserted\")\n",
    "except Exception as e:\n",
    "    print(\"Tables are not inserted, try more you will do it!\",e)"
   ]
  },
  {
   "cell_type": "markdown",
   "id": "a21c32be",
   "metadata": {},
   "source": [
    "## Merge upon Existing_Data and Latest_Data"
   ]
  },
  {
   "cell_type": "code",
   "execution_count": 389,
   "id": "770fe7f6",
   "metadata": {},
   "outputs": [
    {
     "data": {
      "text/html": [
       "<div>\n",
       "<style scoped>\n",
       "    .dataframe tbody tr th:only-of-type {\n",
       "        vertical-align: middle;\n",
       "    }\n",
       "\n",
       "    .dataframe tbody tr th {\n",
       "        vertical-align: top;\n",
       "    }\n",
       "\n",
       "    .dataframe thead th {\n",
       "        text-align: right;\n",
       "    }\n",
       "</style>\n",
       "<table border=\"1\" class=\"dataframe\">\n",
       "  <thead>\n",
       "    <tr style=\"text-align: right;\">\n",
       "      <th></th>\n",
       "      <th>Employee_Id</th>\n",
       "      <th>Name_old</th>\n",
       "      <th>DOB_old</th>\n",
       "      <th>Gender_old</th>\n",
       "      <th>Role_old</th>\n",
       "      <th>Name_new</th>\n",
       "      <th>DOB_new</th>\n",
       "      <th>Gender_new</th>\n",
       "      <th>Role_new</th>\n",
       "    </tr>\n",
       "  </thead>\n",
       "  <tbody>\n",
       "    <tr>\n",
       "      <th>0</th>\n",
       "      <td>101</td>\n",
       "      <td>John</td>\n",
       "      <td>12-10-1996</td>\n",
       "      <td>Male</td>\n",
       "      <td>SDE</td>\n",
       "      <td>John</td>\n",
       "      <td>12-10-1996</td>\n",
       "      <td>Male</td>\n",
       "      <td>System Engineer</td>\n",
       "    </tr>\n",
       "    <tr>\n",
       "      <th>1</th>\n",
       "      <td>102</td>\n",
       "      <td>Smith</td>\n",
       "      <td>13-10-1996</td>\n",
       "      <td>Male</td>\n",
       "      <td>Data Engineer</td>\n",
       "      <td>Smith</td>\n",
       "      <td>13-11-1996</td>\n",
       "      <td>Female</td>\n",
       "      <td>SDE</td>\n",
       "    </tr>\n",
       "    <tr>\n",
       "      <th>2</th>\n",
       "      <td>103</td>\n",
       "      <td>Reg</td>\n",
       "      <td>14-10-1996</td>\n",
       "      <td>Female</td>\n",
       "      <td>Business Analyst</td>\n",
       "      <td>Reg</td>\n",
       "      <td>14-10-1996</td>\n",
       "      <td>Female</td>\n",
       "      <td>Business Mangager</td>\n",
       "    </tr>\n",
       "    <tr>\n",
       "      <th>3</th>\n",
       "      <td>104</td>\n",
       "      <td>Brik</td>\n",
       "      <td>15-10-1996</td>\n",
       "      <td>Female</td>\n",
       "      <td>DevOps</td>\n",
       "      <td>Brik</td>\n",
       "      <td>15-11-1996</td>\n",
       "      <td>Male</td>\n",
       "      <td>Testing</td>\n",
       "    </tr>\n",
       "  </tbody>\n",
       "</table>\n",
       "</div>"
      ],
      "text/plain": [
       "  Employee_Id Name_old     DOB_old Gender_old          Role_old Name_new  \\\n",
       "0         101     John  12-10-1996       Male               SDE     John   \n",
       "1         102    Smith  13-10-1996       Male     Data Engineer    Smith   \n",
       "2         103      Reg  14-10-1996     Female  Business Analyst      Reg   \n",
       "3         104     Brik  15-10-1996     Female            DevOps     Brik   \n",
       "\n",
       "      DOB_new Gender_new           Role_new  \n",
       "0  12-10-1996       Male    System Engineer  \n",
       "1  13-11-1996     Female                SDE  \n",
       "2  14-10-1996     Female  Business Mangager  \n",
       "3  15-11-1996       Male            Testing  "
      ]
     },
     "execution_count": 389,
     "metadata": {},
     "output_type": "execute_result"
    }
   ],
   "source": [
    "merged_data = pd.merge(dim_data,staging_data,on=\"Employee_Id\",suffixes=(\"_old\",\"_new\"))\n",
    "merged_data.head()"
   ]
  },
  {
   "cell_type": "markdown",
   "id": "c4c4f0b2",
   "metadata": {},
   "source": [
    "## Verfiying the SCD_0 Type for any Violations "
   ]
  },
  {
   "cell_type": "code",
   "execution_count": 390,
   "id": "b5dae02d",
   "metadata": {},
   "outputs": [
    {
     "name": "stdout",
     "output_type": "stream",
     "text": [
      "Violation of SCD_0, Changes in Immutuable Fields\n",
      "\n",
      "  Employee_Id     DOB_old     DOB_new Gender_old Gender_new\n",
      "1         102  13-10-1996  13-11-1996       Male     Female\n",
      "3         104  15-10-1996  15-11-1996     Female       Male\n"
     ]
    }
   ],
   "source": [
    "violations_of_scd0 = merged_data[(merged_data['DOB_old']!=merged_data['DOB_new']) | (merged_data['Gender_old']!=merged_data['Gender_new'])]\n",
    "\n",
    "if not violations_of_scd0.empty:\n",
    "    print(\"Violation of SCD_0, Changes in Immutuable Fields\\n\") \n",
    "    print(violations_of_scd0[['Employee_Id','DOB_old','DOB_new','Gender_old','Gender_new']])\n",
    "else:\n",
    "    print(\"Stay Relax, the data is free from SCD_0\")"
   ]
  },
  {
   "cell_type": "markdown",
   "id": "18c411a9",
   "metadata": {},
   "source": [
    "## Creation of Log File for the violation of SCD_0 Type"
   ]
  },
  {
   "cell_type": "code",
   "execution_count": 391,
   "id": "c8571cdf",
   "metadata": {},
   "outputs": [
    {
     "data": {
      "text/html": [
       "<div>\n",
       "<style scoped>\n",
       "    .dataframe tbody tr th:only-of-type {\n",
       "        vertical-align: middle;\n",
       "    }\n",
       "\n",
       "    .dataframe tbody tr th {\n",
       "        vertical-align: top;\n",
       "    }\n",
       "\n",
       "    .dataframe thead th {\n",
       "        text-align: right;\n",
       "    }\n",
       "</style>\n",
       "<table border=\"1\" class=\"dataframe\">\n",
       "  <thead>\n",
       "    <tr style=\"text-align: right;\">\n",
       "      <th></th>\n",
       "      <th>Employee_Id</th>\n",
       "      <th>Name_old</th>\n",
       "      <th>DOB_old</th>\n",
       "      <th>Gender_old</th>\n",
       "      <th>Role_old</th>\n",
       "      <th>Name_new</th>\n",
       "      <th>DOB_new</th>\n",
       "      <th>Gender_new</th>\n",
       "      <th>Role_new</th>\n",
       "    </tr>\n",
       "  </thead>\n",
       "  <tbody>\n",
       "    <tr>\n",
       "      <th>0</th>\n",
       "      <td>101</td>\n",
       "      <td>John</td>\n",
       "      <td>12-10-1996</td>\n",
       "      <td>Male</td>\n",
       "      <td>SDE</td>\n",
       "      <td>John</td>\n",
       "      <td>12-10-1996</td>\n",
       "      <td>Male</td>\n",
       "      <td>System Engineer</td>\n",
       "    </tr>\n",
       "    <tr>\n",
       "      <th>2</th>\n",
       "      <td>103</td>\n",
       "      <td>Reg</td>\n",
       "      <td>14-10-1996</td>\n",
       "      <td>Female</td>\n",
       "      <td>Business Analyst</td>\n",
       "      <td>Reg</td>\n",
       "      <td>14-10-1996</td>\n",
       "      <td>Female</td>\n",
       "      <td>Business Mangager</td>\n",
       "    </tr>\n",
       "  </tbody>\n",
       "</table>\n",
       "</div>"
      ],
      "text/plain": [
       "  Employee_Id Name_old     DOB_old Gender_old          Role_old Name_new  \\\n",
       "0         101     John  12-10-1996       Male               SDE     John   \n",
       "2         103      Reg  14-10-1996     Female  Business Analyst      Reg   \n",
       "\n",
       "      DOB_new Gender_new           Role_new  \n",
       "0  12-10-1996       Male    System Engineer  \n",
       "2  14-10-1996     Female  Business Mangager  "
      ]
     },
     "execution_count": 391,
     "metadata": {},
     "output_type": "execute_result"
    }
   ],
   "source": [
    "violations_of_scd0.to_csv(\"scd_violations_log_file.csv\",mode='a',index=False)\n",
    "Cleaned_Data = merged_data[~merged_data['Employee_Id'].isin(violations_of_scd0['Employee_Id'])]\n",
    "Cleaned_Data"
   ]
  },
  {
   "cell_type": "markdown",
   "id": "c39a8525",
   "metadata": {},
   "source": [
    "# SCD-1"
   ]
  },
  {
   "cell_type": "markdown",
   "id": "8fcb98bd",
   "metadata": {},
   "source": [
    "## Connect to the SQL Server"
   ]
  },
  {
   "cell_type": "code",
   "execution_count": 392,
   "id": "24c32e61",
   "metadata": {},
   "outputs": [],
   "source": [
    "con = pyodbc.connect(\n",
    "    'DRIVER={ODBC Driver 17 for SQL Server};'\n",
    "    'SERVER=DESKTOP-4IVU8N4\\\\MSSQLSERVER1;'\n",
    "    'DATABASE=SCD;'\n",
    "    'Trusted_Connection=yes;'\n",
    ")"
   ]
  },
  {
   "cell_type": "markdown",
   "id": "ccf74096",
   "metadata": {},
   "source": [
    "## Updating the Table Records"
   ]
  },
  {
   "cell_type": "code",
   "execution_count": 393,
   "id": "30b06879",
   "metadata": {},
   "outputs": [],
   "source": [
    "cursor = con.cursor()\n",
    "insert_query=\"\"\"\n",
    "INSERT INTO Existing_Data(Employee_Id,Name,DOB,Gender,Role)\n",
    "Values\n",
    "(?,?,?,?,?)\n",
    "\"\"\"\n",
    "value=(105,\"Jane\",\"15-10-1996\",\"Male\",\"SDE\")\n",
    "values=(106,\"Rookie\",\"12-11-1996\",\"Female\",\"Data Analyst\")\n",
    "cursor.execute(insert_query,value)\n",
    "cursor.execute(insert_query,values)\n",
    "con.commit()"
   ]
  },
  {
   "cell_type": "code",
   "execution_count": 394,
   "id": "3dfb5a98",
   "metadata": {},
   "outputs": [],
   "source": [
    "insert_query_into_latest=\"\"\"\n",
    "INSERT INTO Latest_Data(Employee_Id,Name,DOB,Gender,Role)\n",
    "Values\n",
    "(?,?,?,?,?)\n",
    "\"\"\"\n",
    "value_lat=(105,\"Jane Smith\",\"15-10-1996\",\"Male\",\"DevOps\")\n",
    "values_lat=(106,\"Rookie Paul\",\"12-11-1996\",\"Female\",\"HR\")\n",
    "cursor.execute(insert_query_into_latest,value_lat)\n",
    "cursor.execute(insert_query_into_latest,values_lat)\n",
    "con.commit()"
   ]
  },
  {
   "cell_type": "markdown",
   "id": "3a85b02c",
   "metadata": {},
   "source": [
    "## Reading the Table Records"
   ]
  },
  {
   "cell_type": "code",
   "execution_count": 395,
   "id": "794c0524",
   "metadata": {},
   "outputs": [
    {
     "name": "stderr",
     "output_type": "stream",
     "text": [
      "C:\\Users\\Abhinay\\AppData\\Local\\Temp\\ipykernel_5280\\1211182508.py:1: UserWarning: pandas only supports SQLAlchemy connectable (engine/connection) or database string URI or sqlite3 DBAPI2 connection. Other DBAPI2 objects are not tested. Please consider using SQLAlchemy.\n",
      "  dim_data=pd.read_sql(\"Select * from Existing_data\",con)\n"
     ]
    },
    {
     "data": {
      "text/html": [
       "<div>\n",
       "<style scoped>\n",
       "    .dataframe tbody tr th:only-of-type {\n",
       "        vertical-align: middle;\n",
       "    }\n",
       "\n",
       "    .dataframe tbody tr th {\n",
       "        vertical-align: top;\n",
       "    }\n",
       "\n",
       "    .dataframe thead th {\n",
       "        text-align: right;\n",
       "    }\n",
       "</style>\n",
       "<table border=\"1\" class=\"dataframe\">\n",
       "  <thead>\n",
       "    <tr style=\"text-align: right;\">\n",
       "      <th></th>\n",
       "      <th>Employee_Id</th>\n",
       "      <th>Name</th>\n",
       "      <th>DOB</th>\n",
       "      <th>Gender</th>\n",
       "      <th>Role</th>\n",
       "    </tr>\n",
       "  </thead>\n",
       "  <tbody>\n",
       "    <tr>\n",
       "      <th>0</th>\n",
       "      <td>101</td>\n",
       "      <td>John</td>\n",
       "      <td>12-10-1996</td>\n",
       "      <td>Male</td>\n",
       "      <td>SDE</td>\n",
       "    </tr>\n",
       "    <tr>\n",
       "      <th>1</th>\n",
       "      <td>102</td>\n",
       "      <td>Smith</td>\n",
       "      <td>13-10-1996</td>\n",
       "      <td>Male</td>\n",
       "      <td>Data Engineer</td>\n",
       "    </tr>\n",
       "    <tr>\n",
       "      <th>2</th>\n",
       "      <td>103</td>\n",
       "      <td>Reg</td>\n",
       "      <td>14-10-1996</td>\n",
       "      <td>Female</td>\n",
       "      <td>Business Analyst</td>\n",
       "    </tr>\n",
       "    <tr>\n",
       "      <th>3</th>\n",
       "      <td>104</td>\n",
       "      <td>Brik</td>\n",
       "      <td>15-10-1996</td>\n",
       "      <td>Female</td>\n",
       "      <td>DevOps</td>\n",
       "    </tr>\n",
       "    <tr>\n",
       "      <th>4</th>\n",
       "      <td>105</td>\n",
       "      <td>Jane</td>\n",
       "      <td>15-10-1996</td>\n",
       "      <td>Male</td>\n",
       "      <td>SDE</td>\n",
       "    </tr>\n",
       "    <tr>\n",
       "      <th>5</th>\n",
       "      <td>106</td>\n",
       "      <td>Rookie</td>\n",
       "      <td>12-11-1996</td>\n",
       "      <td>Female</td>\n",
       "      <td>Data Analyst</td>\n",
       "    </tr>\n",
       "  </tbody>\n",
       "</table>\n",
       "</div>"
      ],
      "text/plain": [
       "  Employee_Id    Name         DOB  Gender              Role\n",
       "0         101    John  12-10-1996    Male               SDE\n",
       "1         102   Smith  13-10-1996    Male     Data Engineer\n",
       "2         103     Reg  14-10-1996  Female  Business Analyst\n",
       "3         104    Brik  15-10-1996  Female            DevOps\n",
       "4         105    Jane  15-10-1996    Male               SDE\n",
       "5         106  Rookie  12-11-1996  Female      Data Analyst"
      ]
     },
     "execution_count": 395,
     "metadata": {},
     "output_type": "execute_result"
    }
   ],
   "source": [
    "dim_data=pd.read_sql(\"Select * from Existing_data\",con)\n",
    "dim_data"
   ]
  },
  {
   "cell_type": "code",
   "execution_count": 396,
   "id": "7ed2e55f",
   "metadata": {},
   "outputs": [
    {
     "name": "stderr",
     "output_type": "stream",
     "text": [
      "C:\\Users\\Abhinay\\AppData\\Local\\Temp\\ipykernel_5280\\3706293800.py:1: UserWarning: pandas only supports SQLAlchemy connectable (engine/connection) or database string URI or sqlite3 DBAPI2 connection. Other DBAPI2 objects are not tested. Please consider using SQLAlchemy.\n",
      "  staging_data=pd.read_sql(\"Select * from Latest_Data\",con)\n"
     ]
    },
    {
     "data": {
      "text/html": [
       "<div>\n",
       "<style scoped>\n",
       "    .dataframe tbody tr th:only-of-type {\n",
       "        vertical-align: middle;\n",
       "    }\n",
       "\n",
       "    .dataframe tbody tr th {\n",
       "        vertical-align: top;\n",
       "    }\n",
       "\n",
       "    .dataframe thead th {\n",
       "        text-align: right;\n",
       "    }\n",
       "</style>\n",
       "<table border=\"1\" class=\"dataframe\">\n",
       "  <thead>\n",
       "    <tr style=\"text-align: right;\">\n",
       "      <th></th>\n",
       "      <th>Employee_Id</th>\n",
       "      <th>Name</th>\n",
       "      <th>DOB</th>\n",
       "      <th>Gender</th>\n",
       "      <th>Role</th>\n",
       "    </tr>\n",
       "  </thead>\n",
       "  <tbody>\n",
       "    <tr>\n",
       "      <th>0</th>\n",
       "      <td>101</td>\n",
       "      <td>John</td>\n",
       "      <td>12-10-1996</td>\n",
       "      <td>Male</td>\n",
       "      <td>System Engineer</td>\n",
       "    </tr>\n",
       "    <tr>\n",
       "      <th>1</th>\n",
       "      <td>102</td>\n",
       "      <td>Smith</td>\n",
       "      <td>13-11-1996</td>\n",
       "      <td>Female</td>\n",
       "      <td>SDE</td>\n",
       "    </tr>\n",
       "    <tr>\n",
       "      <th>2</th>\n",
       "      <td>103</td>\n",
       "      <td>Reg</td>\n",
       "      <td>14-10-1996</td>\n",
       "      <td>Female</td>\n",
       "      <td>Business Mangager</td>\n",
       "    </tr>\n",
       "    <tr>\n",
       "      <th>3</th>\n",
       "      <td>104</td>\n",
       "      <td>Brik</td>\n",
       "      <td>15-11-1996</td>\n",
       "      <td>Male</td>\n",
       "      <td>Testing</td>\n",
       "    </tr>\n",
       "    <tr>\n",
       "      <th>4</th>\n",
       "      <td>105</td>\n",
       "      <td>Jane Smith</td>\n",
       "      <td>15-10-1996</td>\n",
       "      <td>Male</td>\n",
       "      <td>DevOps</td>\n",
       "    </tr>\n",
       "    <tr>\n",
       "      <th>5</th>\n",
       "      <td>106</td>\n",
       "      <td>Rookie Paul</td>\n",
       "      <td>12-11-1996</td>\n",
       "      <td>Female</td>\n",
       "      <td>HR</td>\n",
       "    </tr>\n",
       "  </tbody>\n",
       "</table>\n",
       "</div>"
      ],
      "text/plain": [
       "  Employee_Id         Name         DOB  Gender               Role\n",
       "0         101         John  12-10-1996    Male    System Engineer\n",
       "1         102        Smith  13-11-1996  Female                SDE\n",
       "2         103          Reg  14-10-1996  Female  Business Mangager\n",
       "3         104         Brik  15-11-1996    Male            Testing\n",
       "4         105   Jane Smith  15-10-1996    Male             DevOps\n",
       "5         106  Rookie Paul  12-11-1996  Female                 HR"
      ]
     },
     "execution_count": 396,
     "metadata": {},
     "output_type": "execute_result"
    }
   ],
   "source": [
    "staging_data=pd.read_sql(\"Select * from Latest_Data\",con)\n",
    "staging_data"
   ]
  },
  {
   "cell_type": "markdown",
   "id": "041fe8e6",
   "metadata": {},
   "source": [
    "## Updating the Tables for the violation of SCD 1"
   ]
  },
  {
   "cell_type": "code",
   "execution_count": 397,
   "id": "ab5c60d2",
   "metadata": {},
   "outputs": [],
   "source": [
    "update_query =\"\"\"\n",
    "Update ed\n",
    "Set\n",
    "    ed.Name = ld.Name\n",
    "from\n",
    "    Existing_Data ed\n",
    "join\n",
    "    Latest_Data ld on ed.Employee_Id=ld.Employee_Id\n",
    "where\n",
    "    ed.Name <> ld.Name\n",
    "\"\"\"\n",
    "cursor.execute(update_query)\n",
    "con.commit()"
   ]
  },
  {
   "cell_type": "code",
   "execution_count": 398,
   "id": "00eb6c93",
   "metadata": {},
   "outputs": [
    {
     "name": "stderr",
     "output_type": "stream",
     "text": [
      "C:\\Users\\Abhinay\\AppData\\Local\\Temp\\ipykernel_5280\\272427109.py:1: UserWarning: pandas only supports SQLAlchemy connectable (engine/connection) or database string URI or sqlite3 DBAPI2 connection. Other DBAPI2 objects are not tested. Please consider using SQLAlchemy.\n",
      "  dim_data=pd.read_sql(\"Select * from Existing_Data\",con)\n"
     ]
    },
    {
     "data": {
      "text/html": [
       "<div>\n",
       "<style scoped>\n",
       "    .dataframe tbody tr th:only-of-type {\n",
       "        vertical-align: middle;\n",
       "    }\n",
       "\n",
       "    .dataframe tbody tr th {\n",
       "        vertical-align: top;\n",
       "    }\n",
       "\n",
       "    .dataframe thead th {\n",
       "        text-align: right;\n",
       "    }\n",
       "</style>\n",
       "<table border=\"1\" class=\"dataframe\">\n",
       "  <thead>\n",
       "    <tr style=\"text-align: right;\">\n",
       "      <th></th>\n",
       "      <th>Employee_Id</th>\n",
       "      <th>Name</th>\n",
       "      <th>DOB</th>\n",
       "      <th>Gender</th>\n",
       "      <th>Role</th>\n",
       "    </tr>\n",
       "  </thead>\n",
       "  <tbody>\n",
       "    <tr>\n",
       "      <th>0</th>\n",
       "      <td>101</td>\n",
       "      <td>John</td>\n",
       "      <td>12-10-1996</td>\n",
       "      <td>Male</td>\n",
       "      <td>SDE</td>\n",
       "    </tr>\n",
       "    <tr>\n",
       "      <th>1</th>\n",
       "      <td>102</td>\n",
       "      <td>Smith</td>\n",
       "      <td>13-10-1996</td>\n",
       "      <td>Male</td>\n",
       "      <td>Data Engineer</td>\n",
       "    </tr>\n",
       "    <tr>\n",
       "      <th>2</th>\n",
       "      <td>103</td>\n",
       "      <td>Reg</td>\n",
       "      <td>14-10-1996</td>\n",
       "      <td>Female</td>\n",
       "      <td>Business Analyst</td>\n",
       "    </tr>\n",
       "    <tr>\n",
       "      <th>3</th>\n",
       "      <td>104</td>\n",
       "      <td>Brik</td>\n",
       "      <td>15-10-1996</td>\n",
       "      <td>Female</td>\n",
       "      <td>DevOps</td>\n",
       "    </tr>\n",
       "    <tr>\n",
       "      <th>4</th>\n",
       "      <td>105</td>\n",
       "      <td>Jane Smith</td>\n",
       "      <td>15-10-1996</td>\n",
       "      <td>Male</td>\n",
       "      <td>SDE</td>\n",
       "    </tr>\n",
       "    <tr>\n",
       "      <th>5</th>\n",
       "      <td>106</td>\n",
       "      <td>Rookie Paul</td>\n",
       "      <td>12-11-1996</td>\n",
       "      <td>Female</td>\n",
       "      <td>Data Analyst</td>\n",
       "    </tr>\n",
       "  </tbody>\n",
       "</table>\n",
       "</div>"
      ],
      "text/plain": [
       "  Employee_Id         Name         DOB  Gender              Role\n",
       "0         101         John  12-10-1996    Male               SDE\n",
       "1         102        Smith  13-10-1996    Male     Data Engineer\n",
       "2         103          Reg  14-10-1996  Female  Business Analyst\n",
       "3         104         Brik  15-10-1996  Female            DevOps\n",
       "4         105   Jane Smith  15-10-1996    Male               SDE\n",
       "5         106  Rookie Paul  12-11-1996  Female      Data Analyst"
      ]
     },
     "execution_count": 398,
     "metadata": {},
     "output_type": "execute_result"
    }
   ],
   "source": [
    "dim_data=pd.read_sql(\"Select * from Existing_Data\",con)\n",
    "dim_data"
   ]
  },
  {
   "cell_type": "code",
   "execution_count": 399,
   "id": "b327242b",
   "metadata": {},
   "outputs": [
    {
     "data": {
      "text/html": [
       "<div>\n",
       "<style scoped>\n",
       "    .dataframe tbody tr th:only-of-type {\n",
       "        vertical-align: middle;\n",
       "    }\n",
       "\n",
       "    .dataframe tbody tr th {\n",
       "        vertical-align: top;\n",
       "    }\n",
       "\n",
       "    .dataframe thead th {\n",
       "        text-align: right;\n",
       "    }\n",
       "</style>\n",
       "<table border=\"1\" class=\"dataframe\">\n",
       "  <thead>\n",
       "    <tr style=\"text-align: right;\">\n",
       "      <th></th>\n",
       "      <th>Employee_Id</th>\n",
       "      <th>Name_old</th>\n",
       "      <th>DOB_old</th>\n",
       "      <th>Gender_old</th>\n",
       "      <th>Role_old</th>\n",
       "      <th>Name_new</th>\n",
       "      <th>DOB_new</th>\n",
       "      <th>Gender_new</th>\n",
       "      <th>Role_new</th>\n",
       "    </tr>\n",
       "  </thead>\n",
       "  <tbody>\n",
       "    <tr>\n",
       "      <th>0</th>\n",
       "      <td>101</td>\n",
       "      <td>John</td>\n",
       "      <td>12-10-1996</td>\n",
       "      <td>Male</td>\n",
       "      <td>SDE</td>\n",
       "      <td>John</td>\n",
       "      <td>12-10-1996</td>\n",
       "      <td>Male</td>\n",
       "      <td>System Engineer</td>\n",
       "    </tr>\n",
       "    <tr>\n",
       "      <th>1</th>\n",
       "      <td>102</td>\n",
       "      <td>Smith</td>\n",
       "      <td>13-10-1996</td>\n",
       "      <td>Male</td>\n",
       "      <td>Data Engineer</td>\n",
       "      <td>Smith</td>\n",
       "      <td>13-11-1996</td>\n",
       "      <td>Female</td>\n",
       "      <td>SDE</td>\n",
       "    </tr>\n",
       "    <tr>\n",
       "      <th>2</th>\n",
       "      <td>103</td>\n",
       "      <td>Reg</td>\n",
       "      <td>14-10-1996</td>\n",
       "      <td>Female</td>\n",
       "      <td>Business Analyst</td>\n",
       "      <td>Reg</td>\n",
       "      <td>14-10-1996</td>\n",
       "      <td>Female</td>\n",
       "      <td>Business Mangager</td>\n",
       "    </tr>\n",
       "    <tr>\n",
       "      <th>3</th>\n",
       "      <td>104</td>\n",
       "      <td>Brik</td>\n",
       "      <td>15-10-1996</td>\n",
       "      <td>Female</td>\n",
       "      <td>DevOps</td>\n",
       "      <td>Brik</td>\n",
       "      <td>15-11-1996</td>\n",
       "      <td>Male</td>\n",
       "      <td>Testing</td>\n",
       "    </tr>\n",
       "    <tr>\n",
       "      <th>4</th>\n",
       "      <td>105</td>\n",
       "      <td>Jane Smith</td>\n",
       "      <td>15-10-1996</td>\n",
       "      <td>Male</td>\n",
       "      <td>SDE</td>\n",
       "      <td>Jane Smith</td>\n",
       "      <td>15-10-1996</td>\n",
       "      <td>Male</td>\n",
       "      <td>DevOps</td>\n",
       "    </tr>\n",
       "    <tr>\n",
       "      <th>5</th>\n",
       "      <td>106</td>\n",
       "      <td>Rookie Paul</td>\n",
       "      <td>12-11-1996</td>\n",
       "      <td>Female</td>\n",
       "      <td>Data Analyst</td>\n",
       "      <td>Rookie Paul</td>\n",
       "      <td>12-11-1996</td>\n",
       "      <td>Female</td>\n",
       "      <td>HR</td>\n",
       "    </tr>\n",
       "  </tbody>\n",
       "</table>\n",
       "</div>"
      ],
      "text/plain": [
       "  Employee_Id     Name_old     DOB_old Gender_old          Role_old  \\\n",
       "0         101         John  12-10-1996       Male               SDE   \n",
       "1         102        Smith  13-10-1996       Male     Data Engineer   \n",
       "2         103          Reg  14-10-1996     Female  Business Analyst   \n",
       "3         104         Brik  15-10-1996     Female            DevOps   \n",
       "4         105   Jane Smith  15-10-1996       Male               SDE   \n",
       "5         106  Rookie Paul  12-11-1996     Female      Data Analyst   \n",
       "\n",
       "      Name_new     DOB_new Gender_new           Role_new  \n",
       "0         John  12-10-1996       Male    System Engineer  \n",
       "1        Smith  13-11-1996     Female                SDE  \n",
       "2          Reg  14-10-1996     Female  Business Mangager  \n",
       "3         Brik  15-11-1996       Male            Testing  \n",
       "4   Jane Smith  15-10-1996       Male             DevOps  \n",
       "5  Rookie Paul  12-11-1996     Female                 HR  "
      ]
     },
     "execution_count": 399,
     "metadata": {},
     "output_type": "execute_result"
    }
   ],
   "source": [
    "merge_data=pd.merge(dim_data,staging_data,on=\"Employee_Id\",suffixes=('_old',\"_new\"))\n",
    "merge_data"
   ]
  },
  {
   "cell_type": "markdown",
   "id": "57384e10",
   "metadata": {},
   "source": [
    "## Performing the overriden process on Role Field"
   ]
  },
  {
   "cell_type": "code",
   "execution_count": 400,
   "id": "c0661ed7",
   "metadata": {},
   "outputs": [],
   "source": [
    "for index, row in merge_data.iterrows():\n",
    "    if row['Role_old']!=row['Role_new']:\n",
    "        dim_data.loc[dim_data['Employee_Id']==row['Employee_Id'],'Role']=row['Role_new']"
   ]
  },
  {
   "cell_type": "code",
   "execution_count": 401,
   "id": "d111dabc",
   "metadata": {},
   "outputs": [
    {
     "data": {
      "text/html": [
       "<div>\n",
       "<style scoped>\n",
       "    .dataframe tbody tr th:only-of-type {\n",
       "        vertical-align: middle;\n",
       "    }\n",
       "\n",
       "    .dataframe tbody tr th {\n",
       "        vertical-align: top;\n",
       "    }\n",
       "\n",
       "    .dataframe thead th {\n",
       "        text-align: right;\n",
       "    }\n",
       "</style>\n",
       "<table border=\"1\" class=\"dataframe\">\n",
       "  <thead>\n",
       "    <tr style=\"text-align: right;\">\n",
       "      <th></th>\n",
       "      <th>Employee_Id</th>\n",
       "      <th>Name</th>\n",
       "      <th>DOB</th>\n",
       "      <th>Gender</th>\n",
       "      <th>Role</th>\n",
       "    </tr>\n",
       "  </thead>\n",
       "  <tbody>\n",
       "    <tr>\n",
       "      <th>0</th>\n",
       "      <td>101</td>\n",
       "      <td>John</td>\n",
       "      <td>12-10-1996</td>\n",
       "      <td>Male</td>\n",
       "      <td>System Engineer</td>\n",
       "    </tr>\n",
       "    <tr>\n",
       "      <th>1</th>\n",
       "      <td>102</td>\n",
       "      <td>Smith</td>\n",
       "      <td>13-10-1996</td>\n",
       "      <td>Male</td>\n",
       "      <td>SDE</td>\n",
       "    </tr>\n",
       "    <tr>\n",
       "      <th>2</th>\n",
       "      <td>103</td>\n",
       "      <td>Reg</td>\n",
       "      <td>14-10-1996</td>\n",
       "      <td>Female</td>\n",
       "      <td>Business Mangager</td>\n",
       "    </tr>\n",
       "    <tr>\n",
       "      <th>3</th>\n",
       "      <td>104</td>\n",
       "      <td>Brik</td>\n",
       "      <td>15-10-1996</td>\n",
       "      <td>Female</td>\n",
       "      <td>Testing</td>\n",
       "    </tr>\n",
       "    <tr>\n",
       "      <th>4</th>\n",
       "      <td>105</td>\n",
       "      <td>Jane Smith</td>\n",
       "      <td>15-10-1996</td>\n",
       "      <td>Male</td>\n",
       "      <td>DevOps</td>\n",
       "    </tr>\n",
       "    <tr>\n",
       "      <th>5</th>\n",
       "      <td>106</td>\n",
       "      <td>Rookie Paul</td>\n",
       "      <td>12-11-1996</td>\n",
       "      <td>Female</td>\n",
       "      <td>HR</td>\n",
       "    </tr>\n",
       "  </tbody>\n",
       "</table>\n",
       "</div>"
      ],
      "text/plain": [
       "  Employee_Id         Name         DOB  Gender               Role\n",
       "0         101         John  12-10-1996    Male    System Engineer\n",
       "1         102        Smith  13-10-1996    Male                SDE\n",
       "2         103          Reg  14-10-1996  Female  Business Mangager\n",
       "3         104         Brik  15-10-1996  Female            Testing\n",
       "4         105   Jane Smith  15-10-1996    Male             DevOps\n",
       "5         106  Rookie Paul  12-11-1996  Female                 HR"
      ]
     },
     "execution_count": 401,
     "metadata": {},
     "output_type": "execute_result"
    }
   ],
   "source": [
    "dim_data"
   ]
  },
  {
   "cell_type": "code",
   "execution_count": 402,
   "id": "666e677a",
   "metadata": {},
   "outputs": [
    {
     "data": {
      "text/plain": [
       "6"
      ]
     },
     "execution_count": 402,
     "metadata": {},
     "output_type": "execute_result"
    }
   ],
   "source": [
    "dim_data.to_sql(\"Existing_Data\", con=engine, if_exists='replace', index=False)"
   ]
  },
  {
   "cell_type": "code",
   "execution_count": 403,
   "id": "13fb40b1",
   "metadata": {},
   "outputs": [
    {
     "name": "stderr",
     "output_type": "stream",
     "text": [
      "C:\\Users\\Abhinay\\AppData\\Local\\Temp\\ipykernel_5280\\272427109.py:1: UserWarning: pandas only supports SQLAlchemy connectable (engine/connection) or database string URI or sqlite3 DBAPI2 connection. Other DBAPI2 objects are not tested. Please consider using SQLAlchemy.\n",
      "  dim_data=pd.read_sql(\"Select * from Existing_Data\",con)\n"
     ]
    },
    {
     "data": {
      "text/html": [
       "<div>\n",
       "<style scoped>\n",
       "    .dataframe tbody tr th:only-of-type {\n",
       "        vertical-align: middle;\n",
       "    }\n",
       "\n",
       "    .dataframe tbody tr th {\n",
       "        vertical-align: top;\n",
       "    }\n",
       "\n",
       "    .dataframe thead th {\n",
       "        text-align: right;\n",
       "    }\n",
       "</style>\n",
       "<table border=\"1\" class=\"dataframe\">\n",
       "  <thead>\n",
       "    <tr style=\"text-align: right;\">\n",
       "      <th></th>\n",
       "      <th>Employee_Id</th>\n",
       "      <th>Name</th>\n",
       "      <th>DOB</th>\n",
       "      <th>Gender</th>\n",
       "      <th>Role</th>\n",
       "    </tr>\n",
       "  </thead>\n",
       "  <tbody>\n",
       "    <tr>\n",
       "      <th>0</th>\n",
       "      <td>101</td>\n",
       "      <td>John</td>\n",
       "      <td>12-10-1996</td>\n",
       "      <td>Male</td>\n",
       "      <td>System Engineer</td>\n",
       "    </tr>\n",
       "    <tr>\n",
       "      <th>1</th>\n",
       "      <td>102</td>\n",
       "      <td>Smith</td>\n",
       "      <td>13-10-1996</td>\n",
       "      <td>Male</td>\n",
       "      <td>SDE</td>\n",
       "    </tr>\n",
       "    <tr>\n",
       "      <th>2</th>\n",
       "      <td>103</td>\n",
       "      <td>Reg</td>\n",
       "      <td>14-10-1996</td>\n",
       "      <td>Female</td>\n",
       "      <td>Business Mangager</td>\n",
       "    </tr>\n",
       "    <tr>\n",
       "      <th>3</th>\n",
       "      <td>104</td>\n",
       "      <td>Brik</td>\n",
       "      <td>15-10-1996</td>\n",
       "      <td>Female</td>\n",
       "      <td>Testing</td>\n",
       "    </tr>\n",
       "    <tr>\n",
       "      <th>4</th>\n",
       "      <td>105</td>\n",
       "      <td>Jane Smith</td>\n",
       "      <td>15-10-1996</td>\n",
       "      <td>Male</td>\n",
       "      <td>DevOps</td>\n",
       "    </tr>\n",
       "    <tr>\n",
       "      <th>5</th>\n",
       "      <td>106</td>\n",
       "      <td>Rookie Paul</td>\n",
       "      <td>12-11-1996</td>\n",
       "      <td>Female</td>\n",
       "      <td>HR</td>\n",
       "    </tr>\n",
       "  </tbody>\n",
       "</table>\n",
       "</div>"
      ],
      "text/plain": [
       "  Employee_Id         Name         DOB  Gender               Role\n",
       "0         101         John  12-10-1996    Male    System Engineer\n",
       "1         102        Smith  13-10-1996    Male                SDE\n",
       "2         103          Reg  14-10-1996  Female  Business Mangager\n",
       "3         104         Brik  15-10-1996  Female            Testing\n",
       "4         105   Jane Smith  15-10-1996    Male             DevOps\n",
       "5         106  Rookie Paul  12-11-1996  Female                 HR"
      ]
     },
     "execution_count": 403,
     "metadata": {},
     "output_type": "execute_result"
    }
   ],
   "source": [
    "dim_data=pd.read_sql(\"Select * from Existing_Data\",con)\n",
    "dim_data"
   ]
  },
  {
   "cell_type": "markdown",
   "id": "5f8ad816",
   "metadata": {},
   "source": [
    "# SCD 2"
   ]
  },
  {
   "cell_type": "markdown",
   "id": "22bcd5c8",
   "metadata": {},
   "source": [
    "## Pre-Defined End Date"
   ]
  },
  {
   "cell_type": "code",
   "execution_count": 404,
   "id": "ff39342f",
   "metadata": {},
   "outputs": [],
   "source": [
    "safe_max_date=pd.to_datetime('2200-12-31')"
   ]
  },
  {
   "cell_type": "markdown",
   "id": "aec36b88",
   "metadata": {},
   "source": [
    "## Creation of Tables through Hard Code"
   ]
  },
  {
   "cell_type": "markdown",
   "id": "1c2da04c",
   "metadata": {},
   "source": [
    "### Dimension Table"
   ]
  },
  {
   "cell_type": "code",
   "execution_count": 405,
   "id": "1a6081d7",
   "metadata": {},
   "outputs": [],
   "source": [
    "data={\n",
    "    'Employee_Id':['101','102','103','104','105','106'],\n",
    "    'Name' : ['John','Smith','Reg','Brik','Jane Smith','Rookie Paul'],\n",
    "    'Role': ['System Engineer','SDE','Business Manager','Testing','DevOps','HR'],\n",
    "    'Start_Date': pd.to_datetime(['2025-12-01','2025-11-01','2025-10-01','2025-09-01','2025-08-01','2025-07-01']),\n",
    "    'End_Date':[safe_max_date]*6,\n",
    "    'Active_Flag':['Yes']*6\n",
    "}"
   ]
  },
  {
   "cell_type": "markdown",
   "id": "c0d887b1",
   "metadata": {},
   "source": [
    "### Staging Table"
   ]
  },
  {
   "cell_type": "code",
   "execution_count": 406,
   "id": "c86c651a",
   "metadata": {},
   "outputs": [],
   "source": [
    "stag_data = {\n",
    "    'Employee_Id':['102','106'],\n",
    "    'Name' :['Smith','Rookie Paul'],\n",
    "    'Role' :['HR','SDE']\n",
    "}"
   ]
  },
  {
   "cell_type": "markdown",
   "id": "e90f53f4",
   "metadata": {},
   "source": [
    "## Conversion of Raw data into DataFrame"
   ]
  },
  {
   "cell_type": "code",
   "execution_count": 407,
   "id": "3791a26a",
   "metadata": {},
   "outputs": [],
   "source": [
    "dim_status = pd.DataFrame(data)\n",
    "stag_status = pd.DataFrame(stag_data)"
   ]
  },
  {
   "cell_type": "markdown",
   "id": "e41866de",
   "metadata": {},
   "source": [
    "## Sending the tables into SQL Server"
   ]
  },
  {
   "cell_type": "code",
   "execution_count": 408,
   "id": "994da3fd",
   "metadata": {},
   "outputs": [
    {
     "data": {
      "text/plain": [
       "2"
      ]
     },
     "execution_count": 408,
     "metadata": {},
     "output_type": "execute_result"
    }
   ],
   "source": [
    "dim_status.to_sql(\"Existing_Status\",con=engine,if_exists='replace',index=False)\n",
    "stag_status.to_sql(\"Latest_Status\",con=engine,if_exists='replace',index=False)"
   ]
  },
  {
   "cell_type": "markdown",
   "id": "6539d5d1",
   "metadata": {},
   "source": [
    "## Extracting the Tables"
   ]
  },
  {
   "cell_type": "code",
   "execution_count": 409,
   "id": "df430d80",
   "metadata": {},
   "outputs": [
    {
     "name": "stderr",
     "output_type": "stream",
     "text": [
      "C:\\Users\\Abhinay\\AppData\\Local\\Temp\\ipykernel_5280\\4206214618.py:1: UserWarning: pandas only supports SQLAlchemy connectable (engine/connection) or database string URI or sqlite3 DBAPI2 connection. Other DBAPI2 objects are not tested. Please consider using SQLAlchemy.\n",
      "  dim_status=pd.read_sql('Select * from Existing_Status',con)\n"
     ]
    },
    {
     "data": {
      "text/html": [
       "<div>\n",
       "<style scoped>\n",
       "    .dataframe tbody tr th:only-of-type {\n",
       "        vertical-align: middle;\n",
       "    }\n",
       "\n",
       "    .dataframe tbody tr th {\n",
       "        vertical-align: top;\n",
       "    }\n",
       "\n",
       "    .dataframe thead th {\n",
       "        text-align: right;\n",
       "    }\n",
       "</style>\n",
       "<table border=\"1\" class=\"dataframe\">\n",
       "  <thead>\n",
       "    <tr style=\"text-align: right;\">\n",
       "      <th></th>\n",
       "      <th>Employee_Id</th>\n",
       "      <th>Name</th>\n",
       "      <th>Role</th>\n",
       "      <th>Start_Date</th>\n",
       "      <th>End_Date</th>\n",
       "      <th>Active_Flag</th>\n",
       "    </tr>\n",
       "  </thead>\n",
       "  <tbody>\n",
       "    <tr>\n",
       "      <th>0</th>\n",
       "      <td>101</td>\n",
       "      <td>John</td>\n",
       "      <td>System Engineer</td>\n",
       "      <td>2025-12-01</td>\n",
       "      <td>2200-12-31</td>\n",
       "      <td>Yes</td>\n",
       "    </tr>\n",
       "    <tr>\n",
       "      <th>1</th>\n",
       "      <td>102</td>\n",
       "      <td>Smith</td>\n",
       "      <td>SDE</td>\n",
       "      <td>2025-11-01</td>\n",
       "      <td>2200-12-31</td>\n",
       "      <td>Yes</td>\n",
       "    </tr>\n",
       "    <tr>\n",
       "      <th>2</th>\n",
       "      <td>103</td>\n",
       "      <td>Reg</td>\n",
       "      <td>Business Manager</td>\n",
       "      <td>2025-10-01</td>\n",
       "      <td>2200-12-31</td>\n",
       "      <td>Yes</td>\n",
       "    </tr>\n",
       "    <tr>\n",
       "      <th>3</th>\n",
       "      <td>104</td>\n",
       "      <td>Brik</td>\n",
       "      <td>Testing</td>\n",
       "      <td>2025-09-01</td>\n",
       "      <td>2200-12-31</td>\n",
       "      <td>Yes</td>\n",
       "    </tr>\n",
       "    <tr>\n",
       "      <th>4</th>\n",
       "      <td>105</td>\n",
       "      <td>Jane Smith</td>\n",
       "      <td>DevOps</td>\n",
       "      <td>2025-08-01</td>\n",
       "      <td>2200-12-31</td>\n",
       "      <td>Yes</td>\n",
       "    </tr>\n",
       "    <tr>\n",
       "      <th>5</th>\n",
       "      <td>106</td>\n",
       "      <td>Rookie Paul</td>\n",
       "      <td>HR</td>\n",
       "      <td>2025-07-01</td>\n",
       "      <td>2200-12-31</td>\n",
       "      <td>Yes</td>\n",
       "    </tr>\n",
       "  </tbody>\n",
       "</table>\n",
       "</div>"
      ],
      "text/plain": [
       "  Employee_Id         Name              Role Start_Date   End_Date Active_Flag\n",
       "0         101         John   System Engineer 2025-12-01 2200-12-31         Yes\n",
       "1         102        Smith               SDE 2025-11-01 2200-12-31         Yes\n",
       "2         103          Reg  Business Manager 2025-10-01 2200-12-31         Yes\n",
       "3         104         Brik           Testing 2025-09-01 2200-12-31         Yes\n",
       "4         105   Jane Smith            DevOps 2025-08-01 2200-12-31         Yes\n",
       "5         106  Rookie Paul                HR 2025-07-01 2200-12-31         Yes"
      ]
     },
     "execution_count": 409,
     "metadata": {},
     "output_type": "execute_result"
    }
   ],
   "source": [
    "dim_status=pd.read_sql('Select * from Existing_Status',con)\n",
    "dim_status"
   ]
  },
  {
   "cell_type": "code",
   "execution_count": 410,
   "id": "31e6a65f",
   "metadata": {},
   "outputs": [
    {
     "name": "stderr",
     "output_type": "stream",
     "text": [
      "C:\\Users\\Abhinay\\AppData\\Local\\Temp\\ipykernel_5280\\474767121.py:1: UserWarning: pandas only supports SQLAlchemy connectable (engine/connection) or database string URI or sqlite3 DBAPI2 connection. Other DBAPI2 objects are not tested. Please consider using SQLAlchemy.\n",
      "  stag_status=pd.read_sql('Select * from Latest_Status',con)\n"
     ]
    },
    {
     "data": {
      "text/html": [
       "<div>\n",
       "<style scoped>\n",
       "    .dataframe tbody tr th:only-of-type {\n",
       "        vertical-align: middle;\n",
       "    }\n",
       "\n",
       "    .dataframe tbody tr th {\n",
       "        vertical-align: top;\n",
       "    }\n",
       "\n",
       "    .dataframe thead th {\n",
       "        text-align: right;\n",
       "    }\n",
       "</style>\n",
       "<table border=\"1\" class=\"dataframe\">\n",
       "  <thead>\n",
       "    <tr style=\"text-align: right;\">\n",
       "      <th></th>\n",
       "      <th>Employee_Id</th>\n",
       "      <th>Name</th>\n",
       "      <th>Role</th>\n",
       "    </tr>\n",
       "  </thead>\n",
       "  <tbody>\n",
       "    <tr>\n",
       "      <th>0</th>\n",
       "      <td>102</td>\n",
       "      <td>Smith</td>\n",
       "      <td>HR</td>\n",
       "    </tr>\n",
       "    <tr>\n",
       "      <th>1</th>\n",
       "      <td>106</td>\n",
       "      <td>Rookie Paul</td>\n",
       "      <td>SDE</td>\n",
       "    </tr>\n",
       "  </tbody>\n",
       "</table>\n",
       "</div>"
      ],
      "text/plain": [
       "  Employee_Id         Name Role\n",
       "0         102        Smith   HR\n",
       "1         106  Rookie Paul  SDE"
      ]
     },
     "execution_count": 410,
     "metadata": {},
     "output_type": "execute_result"
    }
   ],
   "source": [
    "stag_status=pd.read_sql('Select * from Latest_Status',con)\n",
    "stag_status"
   ]
  },
  {
   "cell_type": "markdown",
   "id": "cd5c4278",
   "metadata": {},
   "source": [
    "## Verifying the SCD 2 violations"
   ]
  },
  {
   "cell_type": "code",
   "execution_count": null,
   "id": "a07ef0ed",
   "metadata": {},
   "outputs": [
    {
     "data": {
      "text/html": [
       "<div>\n",
       "<style scoped>\n",
       "    .dataframe tbody tr th:only-of-type {\n",
       "        vertical-align: middle;\n",
       "    }\n",
       "\n",
       "    .dataframe tbody tr th {\n",
       "        vertical-align: top;\n",
       "    }\n",
       "\n",
       "    .dataframe thead th {\n",
       "        text-align: right;\n",
       "    }\n",
       "</style>\n",
       "<table border=\"1\" class=\"dataframe\">\n",
       "  <thead>\n",
       "    <tr style=\"text-align: right;\">\n",
       "      <th></th>\n",
       "      <th>Employee_Id</th>\n",
       "      <th>Name</th>\n",
       "      <th>Role</th>\n",
       "      <th>Start_Date</th>\n",
       "      <th>End_Date</th>\n",
       "      <th>Active_Flag</th>\n",
       "    </tr>\n",
       "  </thead>\n",
       "  <tbody>\n",
       "    <tr>\n",
       "      <th>0</th>\n",
       "      <td>101</td>\n",
       "      <td>John</td>\n",
       "      <td>System Engineer</td>\n",
       "      <td>2025-12-01</td>\n",
       "      <td>2200-12-31</td>\n",
       "      <td>Yes</td>\n",
       "    </tr>\n",
       "    <tr>\n",
       "      <th>1</th>\n",
       "      <td>102</td>\n",
       "      <td>Smith</td>\n",
       "      <td>SDE</td>\n",
       "      <td>2025-11-01</td>\n",
       "      <td>2025-06-23</td>\n",
       "      <td>No</td>\n",
       "    </tr>\n",
       "    <tr>\n",
       "      <th>2</th>\n",
       "      <td>102</td>\n",
       "      <td>Smith</td>\n",
       "      <td>HR</td>\n",
       "      <td>2025-06-24</td>\n",
       "      <td>2200-12-31</td>\n",
       "      <td>Yes</td>\n",
       "    </tr>\n",
       "    <tr>\n",
       "      <th>3</th>\n",
       "      <td>103</td>\n",
       "      <td>Reg</td>\n",
       "      <td>Business Manager</td>\n",
       "      <td>2025-10-01</td>\n",
       "      <td>2200-12-31</td>\n",
       "      <td>Yes</td>\n",
       "    </tr>\n",
       "    <tr>\n",
       "      <th>4</th>\n",
       "      <td>104</td>\n",
       "      <td>Brik</td>\n",
       "      <td>Testing</td>\n",
       "      <td>2025-09-01</td>\n",
       "      <td>2200-12-31</td>\n",
       "      <td>Yes</td>\n",
       "    </tr>\n",
       "    <tr>\n",
       "      <th>5</th>\n",
       "      <td>105</td>\n",
       "      <td>Jane Smith</td>\n",
       "      <td>DevOps</td>\n",
       "      <td>2025-08-01</td>\n",
       "      <td>2200-12-31</td>\n",
       "      <td>Yes</td>\n",
       "    </tr>\n",
       "    <tr>\n",
       "      <th>6</th>\n",
       "      <td>106</td>\n",
       "      <td>Rookie Paul</td>\n",
       "      <td>HR</td>\n",
       "      <td>2025-07-01</td>\n",
       "      <td>2025-06-23</td>\n",
       "      <td>No</td>\n",
       "    </tr>\n",
       "    <tr>\n",
       "      <th>7</th>\n",
       "      <td>106</td>\n",
       "      <td>Rookie Paul</td>\n",
       "      <td>SDE</td>\n",
       "      <td>2025-06-24</td>\n",
       "      <td>2200-12-31</td>\n",
       "      <td>Yes</td>\n",
       "    </tr>\n",
       "  </tbody>\n",
       "</table>\n",
       "</div>"
      ],
      "text/plain": [
       "  Employee_Id         Name              Role Start_Date   End_Date Active_Flag\n",
       "0         101         John   System Engineer 2025-12-01 2200-12-31         Yes\n",
       "1         102        Smith               SDE 2025-11-01 2025-06-23          No\n",
       "2         102        Smith                HR 2025-06-24 2200-12-31         Yes\n",
       "3         103          Reg  Business Manager 2025-10-01 2200-12-31         Yes\n",
       "4         104         Brik           Testing 2025-09-01 2200-12-31         Yes\n",
       "5         105   Jane Smith            DevOps 2025-08-01 2200-12-31         Yes\n",
       "6         106  Rookie Paul                HR 2025-07-01 2025-06-23          No\n",
       "7         106  Rookie Paul               SDE 2025-06-24 2200-12-31         Yes"
      ]
     },
     "execution_count": 411,
     "metadata": {},
     "output_type": "execute_result"
    }
   ],
   "source": [
    "from datetime import date,timedelta\n",
    "safe_max_date=pd.to_datetime('2200-12-31')\n",
    "today=pd.to_datetime('2025-06-24')\n",
    "for index, rows in stag_status.iterrows():\n",
    "    emp_id=rows['Employee_Id']\n",
    "    name=rows['Name']\n",
    "    role=rows['Role']\n",
    "\n",
    "    mark=dim_status[(dim_status['Employee_Id']==emp_id) & (dim_status['Active_Flag']=='Yes')]\n",
    "    \n",
    "    if not mark.empty:\n",
    "        current_role=mark.iloc[0]['Role']\n",
    "        if role!=current_role:\n",
    "            dim_status.loc[mark.index,'End_Date']=today-timedelta(days=1)\n",
    "            dim_status.loc[mark.index,'Active_Flag']='No'\n",
    "\n",
    "            new_data ={\n",
    "                'Employee_Id':emp_id,\n",
    "                'Name':name,\n",
    "                'Role':role,\n",
    "                'Start_Date':today,\n",
    "                'End_Date':safe_max_date,\n",
    "                'Active_Flag':'Yes'\n",
    "            }\n",
    "            dim_status=pd.concat([dim_status,pd.DataFrame([new_data])], ignore_index=True)\n",
    "\n",
    "    else:\n",
    "        new_data ={\n",
    "                'Employee_Id':emp_id,\n",
    "                'Name':name,\n",
    "                'Role':role,\n",
    "                'Start_Date':today,\n",
    "                'End_Date':safe_max_date,\n",
    "                'Active_Flag':'Yes'\n",
    "            }\n",
    "        dim_status=pd.concat([dim_status,pd.DataFrame([new_data])], ignore_index=True)\n",
    "\n",
    "dim_status.sort_values(['Employee_Id'],inplace=True)\n",
    "dim_status.reset_index(drop=True,inplace=True)\n",
    "dim_status\n",
    "                           "
   ]
  }
 ],
 "metadata": {
  "kernelspec": {
   "display_name": "Python 3",
   "language": "python",
   "name": "python3"
  },
  "language_info": {
   "codemirror_mode": {
    "name": "ipython",
    "version": 3
   },
   "file_extension": ".py",
   "mimetype": "text/x-python",
   "name": "python",
   "nbconvert_exporter": "python",
   "pygments_lexer": "ipython3",
   "version": "3.11.9"
  }
 },
 "nbformat": 4,
 "nbformat_minor": 5
}
