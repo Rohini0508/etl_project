{
 "cells": [
  {
   "cell_type": "code",
   "execution_count": 1,
   "id": "b6d0ff56",
   "metadata": {},
   "outputs": [
    {
     "name": "stdout",
     "output_type": "stream",
     "text": [
      "Collecting pyodbc\n",
      "  Downloading pyodbc-5.2.0-cp310-cp310-win_amd64.whl (68 kB)\n",
      "     ---------------------------------------- 68.9/68.9 kB 3.7 MB/s eta 0:00:00\n",
      "Collecting sqlalchemy\n",
      "  Downloading sqlalchemy-2.0.41-cp310-cp310-win_amd64.whl (2.1 MB)\n",
      "     ---------------------------------------- 2.1/2.1 MB 10.3 MB/s eta 0:00:00\n",
      "Collecting pymysql\n",
      "  Downloading PyMySQL-1.1.1-py3-none-any.whl (44 kB)\n",
      "     ---------------------------------------- 45.0/45.0 kB ? eta 0:00:00\n",
      "Collecting pandas\n",
      "  Downloading pandas-2.3.0-cp310-cp310-win_amd64.whl (11.1 MB)\n",
      "     --------------------------------------- 11.1/11.1 MB 11.1 MB/s eta 0:00:00\n",
      "Collecting greenlet>=1\n",
      "  Downloading greenlet-3.2.3-cp310-cp310-win_amd64.whl (296 kB)\n",
      "     -------------------------------------- 296.6/296.6 kB 6.1 MB/s eta 0:00:00\n",
      "Requirement already satisfied: typing-extensions>=4.6.0 in c:\\users\\rohini\\documents\\python_kasmo\\etl_project\\venv\\lib\\site-packages (from sqlalchemy) (4.14.0)\n",
      "Collecting numpy>=1.22.4\n",
      "  Downloading numpy-2.2.6-cp310-cp310-win_amd64.whl (12.9 MB)\n",
      "     ---------------------------------------- 12.9/12.9 MB 8.8 MB/s eta 0:00:00\n",
      "Requirement already satisfied: python-dateutil>=2.8.2 in c:\\users\\rohini\\documents\\python_kasmo\\etl_project\\venv\\lib\\site-packages (from pandas) (2.9.0.post0)\n",
      "Collecting tzdata>=2022.7\n",
      "  Downloading tzdata-2025.2-py2.py3-none-any.whl (347 kB)\n",
      "     -------------------------------------- 347.8/347.8 kB 7.3 MB/s eta 0:00:00\n",
      "Collecting pytz>=2020.1\n",
      "  Downloading pytz-2025.2-py2.py3-none-any.whl (509 kB)\n",
      "     -------------------------------------- 509.2/509.2 kB 7.9 MB/s eta 0:00:00\n",
      "Requirement already satisfied: six>=1.5 in c:\\users\\rohini\\documents\\python_kasmo\\etl_project\\venv\\lib\\site-packages (from python-dateutil>=2.8.2->pandas) (1.17.0)\n",
      "Installing collected packages: pytz, tzdata, pyodbc, pymysql, numpy, greenlet, sqlalchemy, pandas\n",
      "Successfully installed greenlet-3.2.3 numpy-2.2.6 pandas-2.3.0 pymysql-1.1.1 pyodbc-5.2.0 pytz-2025.2 sqlalchemy-2.0.41 tzdata-2025.2\n"
     ]
    },
    {
     "name": "stderr",
     "output_type": "stream",
     "text": [
      "\n",
      "[notice] A new release of pip available: 22.2.1 -> 25.1.1\n",
      "[notice] To update, run: python.exe -m pip install --upgrade pip\n"
     ]
    }
   ],
   "source": [
    "!pip install pyodbc sqlalchemy pymysql pandas\n"
   ]
  },
  {
   "cell_type": "code",
   "execution_count": 9,
   "id": "ce1e8720",
   "metadata": {},
   "outputs": [],
   "source": [
    "import pyodbc\n",
    "\n",
    "# Update with your SQL Server details\n",
    "server = 'DESKTOP-D933C06\\SQLEXPRESS'\n",
    "database = 'connection'\n",
    "username = 'sa'\n",
    "password = 'tharun'\n",
    "\n",
    "conn_sqlserver = pyodbc.connect(\n",
    "    f'DRIVER={{ODBC Driver 17 for SQL Server}};SERVER={server};DATABASE={database};UID={username};PWD={password}'\n",
    ")\n",
    "\n",
    "cursor_sqlserver = conn_sqlserver.cursor()\n"
   ]
  },
  {
   "cell_type": "code",
   "execution_count": 10,
   "id": "7d62397e",
   "metadata": {},
   "outputs": [
    {
     "name": "stdout",
     "output_type": "stream",
     "text": [
      "MySQL Version: 8.0.42\n"
     ]
    }
   ],
   "source": [
    "from sqlalchemy import create_engine, text\n",
    "from urllib.parse import quote_plus\n",
    "\n",
    "# Connection details\n",
    "mysql_user = 'root'\n",
    "mysql_password = 'Tharun@19072003'\n",
    "mysql_host = 'localhost'\n",
    "mysql_port = '3306'\n",
    "mysql_db = 'connection'\n",
    "\n",
    "# URL encode the password\n",
    "encoded_password = quote_plus(mysql_password)\n",
    "\n",
    "# Create connection string\n",
    "mysql_conn_str = f'mysql+pymysql://{mysql_user}:{encoded_password}@{mysql_host}:{mysql_port}/{mysql_db}'\n",
    "engine_mysql = create_engine(mysql_conn_str)\n",
    "\n",
    "# Test connection\n",
    "with engine_mysql.connect() as conn:\n",
    "    result = conn.execute(text(\"SELECT VERSION()\"))  # ✅ wrap SQL in text()\n",
    "    print(f\"MySQL Version: {result.fetchone()[0]}\")\n"
   ]
  },
  {
   "cell_type": "code",
   "execution_count": 11,
   "id": "f19ba76d",
   "metadata": {},
   "outputs": [
    {
     "name": "stdout",
     "output_type": "stream",
     "text": [
      "SQL Server table 'source_table' created.\n"
     ]
    }
   ],
   "source": [
    "# Create SQL Server table if it doesn't exist\n",
    "cursor_sqlserver.execute(\"\"\"\n",
    "IF NOT EXISTS (\n",
    "    SELECT * FROM sysobjects WHERE name='source_table' AND xtype='U'\n",
    ")\n",
    "CREATE TABLE source_table (\n",
    "    id INT PRIMARY KEY,\n",
    "    name VARCHAR(100),\n",
    "    salary FLOAT\n",
    ")\n",
    "\"\"\")\n",
    "conn_sqlserver.commit()\n",
    "print(\"SQL Server table 'source_table' created.\")\n"
   ]
  },
  {
   "cell_type": "code",
   "execution_count": null,
   "id": "b7256020",
   "metadata": {},
   "outputs": [
    {
     "name": "stdout",
     "output_type": "stream",
     "text": [
      "Existing rows deleted (if any) and new data inserted successfully.\n"
     ]
    }
   ],
   "source": [
    "# Sample data to insert\n",
    "#data = [\n",
    "#    (1, 'Rohini', 90000),\n",
    " #   (2, 'Monika', 89000),\n",
    "  #  (3, 'Pavani', 70000),\n",
    "   # (4, 'Naveena', 1000)\n",
    "#]\n",
    "\n",
    "# Loop through each row and delete existing, then insert\n",
    "#for row in data:\n",
    "  #  id_, name, salary = row\n",
    "\n",
    "    # Delete if exists\n",
    " #   delete_query = \"DELETE FROM source_table WHERE id = ?\"\n",
    " #   cursor_sqlserver.execute(delete_query, (id_,))\n",
    "\n",
    "    # Insert new data\n",
    "   # insert_query = \"INSERT INTO source_table (id, name, salary) VALUES (?, ?, ?)\"\n",
    "  #  cursor_sqlserver.execute(insert_query, row)\n",
    "\n",
    "# Commit the transaction\n",
    "#conn_sqlserver.commit()\n",
    "#print(\"Existing rows deleted (if any) and new data inserted successfully.\")\n"
   ]
  },
  {
   "cell_type": "code",
   "execution_count": 12,
   "id": "22817013",
   "metadata": {},
   "outputs": [
    {
     "name": "stdout",
     "output_type": "stream",
     "text": [
      "Sample data inserted into SQL Server 'source_table'.\n"
     ]
    }
   ],
   "source": [
    "# Insert sample data\n",
    "insert_query = \"INSERT INTO source_table (id, name, salary) VALUES (?, ?, ?)\"\n",
    "data = [\n",
    "    (1, 'Rohini', 90000),\n",
    "    (2, 'Monika', 89000),\n",
    "    (3, 'Pavani', 70000),\n",
    "    (4,'Naveena',1000)\n",
    "]\n",
    "\n",
    "cursor_sqlserver.executemany(insert_query, data)\n",
    "conn_sqlserver.commit()\n",
    "print(\"Sample data inserted into SQL Server 'source_table'.\")\n"
   ]
  },
  {
   "cell_type": "code",
   "execution_count": 13,
   "id": "4612ff6e",
   "metadata": {},
   "outputs": [
    {
     "name": "stderr",
     "output_type": "stream",
     "text": [
      "C:\\Users\\Rohini\\AppData\\Local\\Temp\\ipykernel_7688\\3154384991.py:5: UserWarning: pandas only supports SQLAlchemy connectable (engine/connection) or database string URI or sqlite3 DBAPI2 connection. Other DBAPI2 objects are not tested. Please consider using SQLAlchemy.\n",
      "  df = pd.read_sql(sql_query, conn_sqlserver)\n"
     ]
    },
    {
     "data": {
      "text/plain": [
       "4"
      ]
     },
     "execution_count": 13,
     "metadata": {},
     "output_type": "execute_result"
    }
   ],
   "source": [
    "import pandas as pd\n",
    "\n",
    "# Replace with your actual table name\n",
    "sql_query = \"SELECT * FROM source_table\"\n",
    "df = pd.read_sql(sql_query, conn_sqlserver)\n",
    "\n",
    "# Optional transformation\n",
    "#df['new_column'] = df['salary'].apply(lambda x: x * 2)  # if 'salary' exists\n",
    "\n",
    "# Load into MySQL\n",
    "df.to_sql('target_table', con=engine_mysql, if_exists='replace', index=False)\n"
   ]
  }
 ],
 "metadata": {
  "kernelspec": {
   "display_name": "venv",
   "language": "python",
   "name": "python3"
  },
  "language_info": {
   "codemirror_mode": {
    "name": "ipython",
    "version": 3
   },
   "file_extension": ".py",
   "mimetype": "text/x-python",
   "name": "python",
   "nbconvert_exporter": "python",
   "pygments_lexer": "ipython3",
   "version": "3.10.6"
  }
 },
 "nbformat": 4,
 "nbformat_minor": 5
}
